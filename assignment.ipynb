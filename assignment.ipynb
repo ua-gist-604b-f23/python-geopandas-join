{
 "cells": [
  {
   "cell_type": "markdown",
   "metadata": {},
   "source": [
    "## Assignment\n",
    "\n",
    "### Background\n",
    "We have now worked with Python with the `pandas` library to learn about `DataFrame`s and `geopandas` to learn about `GeoDataFrame`s by following some basic tutorials. This next assignment will use the toy `nybb` database that is popular in the open source software world to work with `geopandas` more exploratively. More specifcially, we will be reproducing some output that we previously did in the QGIS Tutorials.\n",
    "\n",
    "Read this [tutorial](https://geopandas.org/getting_started/introduction.html)\n",
    "Browse/read the GeoPandas [user guide](https://geopandas.org/docs/user_guide.html).\n",
    "\n",
    "- Tutorial: https://geopandas.org/getting_started/introduction.html\n",
    "- User Guide: https://geopandas.org/docs/user_guide.html\n",
    "\n",
    "#### Geospatial libraries and notes on documentation \n",
    "Geospatial Library Reference:\n",
    "- [Shapely docs](https://shapely.readthedocs.io/en/stable/manual.html)\n",
    "- [Geopanda docs](http://geopandas.org/)\n",
    "- [Pandas docs](https://pandas.pydata.org/pandas-docs/stable/user_guide/index.html#user-guide)\n",
    "\n",
    "Docs can be good or bad. The docs for above range from \"ok\" to \"good\". It helps to have a working knowledge of `pandas` but the docs for `pandas` are quite good for learning and as a reference. `geopandas` actually uses the `shapely` model for geometries and while it needs to be installed, there is little direct interaction with this library on our part except for accessing the `shapely` geometries.\n",
    "\n",
    "### Objective\n",
    "The objective of this lab is to reproduce one of the QGIS Tutorials you did previously:\n",
    "- [Performing spatial joins](http://www.qgistutorials.com/en/docs/3/performing_spatial_joins.html)\n",
    "\n",
    "\n",
    "## Deliverables\n",
    "An open Pull Request from a branch named `geopandas` to be merged with `master` containing the following files:\n",
    "- `spatial_join.py`\n",
    "- `spatial_join.png`"
   ]
  },
  {
   "cell_type": "markdown",
   "metadata": {},
   "source": [
    "## Prep your codespace python environment\n",
    "`geopandas` is not installed by default so we will use `pip` to install this and a few other libraries we need. \n",
    "\n",
    "This will execute the `pip` command in the shell and install the libraries we need. "
   ]
  },
  {
   "cell_type": "code",
   "execution_count": null,
   "metadata": {},
   "outputs": [],
   "source": [
    "!pip install geopandas descartes mapclassify folium branca rtree pygeos"
   ]
  },
  {
   "cell_type": "code",
   "execution_count": null,
   "metadata": {},
   "outputs": [],
   "source": [
    "## Performing spatial joins\n",
    "Review [Performing spatial joins](http://www.qgistutorials.com/en/docs/3/performing_spatial_joins.html) to see our objective. \n",
    "\n",
    "### Download and extract the data:\n",
    "\n",
    "- [NY Boros](http://www.qgistutorials.com/downloads/nybb_19a.zip)\n",
    "- [Pavement Ratings](http://www.qgistutorials.com/downloads/V_SSS_SEGMENTRATING_1.zip)"
   ]
  },
  {
   "cell_type": "markdown",
   "metadata": {},
   "source": [
    "Meanwhile, we are going to record all of these python commands in a separate file named `spatial_join.py`. This will be a file that we can execute outside of the Jupyter notebook environment and will run from start to finish\n",
    "\n",
    "\n",
    "First, download the data we will use. I have added some patterns to a `.gitignore` file so these will not be saved to the repo. We don't need to save large zip files to a git repo. "
   ]
  },
  {
   "cell_type": "code",
   "execution_count": null,
   "metadata": {},
   "outputs": [],
   "source": [
    "from io import BytesIO\n",
    "from urllib.request import urlopen\n",
    "from zipfile import ZipFile\n",
    "zipurl = 'http://www.qgistutorials.com/downloads/nybb_19a.zip'\n",
    "with urlopen(zipurl) as zipresp:\n",
    "    with ZipFile(BytesIO(zipresp.read())) as zfile:\n",
    "        zfile.extractall('./data/nybb')\n",
    "zipurl = 'http://www.qgistutorials.com/downloads/V_SSS_SEGMENTRATING_1.zip'\n",
    "with urlopen(zipurl) as zipresp:\n",
    "    with ZipFile(BytesIO(zipresp.read())) as zfile:\n",
    "        zfile.extractall('./data/vss')"
   ]
  },
  {
   "cell_type": "markdown",
   "metadata": {},
   "source": [
    "### Load the data in python\n",
    "We are going to use `geopandas` and `descartes` in this lab, so import them:"
   ]
  },
  {
   "cell_type": "code",
   "execution_count": null,
   "metadata": {},
   "outputs": [],
   "source": [
    "import geopandas\n",
    "import descartes"
   ]
  },
  {
   "cell_type": "markdown",
   "metadata": {},
   "source": [
    "\n",
    "`geopandas` can read shapefiles. Using the path to the shapefile we downloaded for nybb:"
   ]
  },
  {
   "cell_type": "code",
   "execution_count": null,
   "metadata": {},
   "outputs": [],
   "source": [
    "nybb = geopandas.read_file('./data/nybb/nybb_19a/nybb.shp')"
   ]
  },
  {
   "cell_type": "markdown",
   "metadata": {},
   "source": [
    "Next, do some basic exploration of the data and the python structures made from it:"
   ]
  },
  {
   "cell_type": "code",
   "execution_count": null,
   "metadata": {},
   "outputs": [],
   "source": [
    "\n",
    "print(nybb)\n",
    "print(type(nybb))\n",
    "nybb.head()\n"
   ]
  },
  {
   "cell_type": "markdown",
   "metadata": {},
   "source": [
    "Note that the `.head()` method is acting _on_ the geopandas dataframe and will print the values of the first 5 lines. Next, plot it (the `.plot()` method is also acting on the geopandas dataframe and plots it using the `matplotlib` library:"
   ]
  },
  {
   "cell_type": "code",
   "execution_count": null,
   "metadata": {},
   "outputs": [],
   "source": [
    "nybb.plot()"
   ]
  },
  {
   "cell_type": "markdown",
   "metadata": {},
   "source": [
    "Do the same for the street pavement rating:"
   ]
  },
  {
   "cell_type": "code",
   "execution_count": null,
   "metadata": {},
   "outputs": [],
   "source": [
    "vss = geopandas.read_file('./data/vss/dot_V_SSS_SEGMENTRATING_1_20190129.shp')"
   ]
  },
  {
   "cell_type": "markdown",
   "metadata": {},
   "source": [
    "And explore:"
   ]
  },
  {
   "cell_type": "code",
   "execution_count": null,
   "metadata": {},
   "outputs": [],
   "source": [
    "print(vss)\n",
    "type(vss)\n",
    "vss.head()\n",
    "vss.plot()"
   ]
  },
  {
   "cell_type": "markdown",
   "metadata": {},
   "source": [
    "### Subset the Streets data\n",
    "Geopandas gives us the ability to use array-indexing to subset the data. Let's construct a filter to get rid of the data where `RatingWord` is not `NR`:\n",
    "\n",
    "View the data:"
   ]
  },
  {
   "cell_type": "code",
   "execution_count": null,
   "metadata": {},
   "outputs": [],
   "source": [
    "vss['RatingWord']"
   ]
  },
  {
   "cell_type": "markdown",
   "metadata": {},
   "source": [
    "Construct a list of boolean values equal to the length of `vss` in which the value is `True` if `RatingWord` is not equal to `NR` and False otherwise:"
   ]
  },
  {
   "cell_type": "code",
   "execution_count": null,
   "metadata": {},
   "outputs": [],
   "source": [
    "vss['RatingWord'] != 'NR'"
   ]
  },
  {
   "cell_type": "markdown",
   "metadata": {},
   "source": [
    "Now we can subset `vss` based on which values of ^ are `True`:"
   ]
  },
  {
   "cell_type": "code",
   "execution_count": null,
   "metadata": {},
   "outputs": [],
   "source": [
    "vss_sub = vss[vss['RatingWord'] != 'NR']"
   ]
  },
  {
   "cell_type": "markdown",
   "metadata": {},
   "source": [
    "Now we have a new `GeoDataFrame` named `vss_sub` with fewer rows. Take a look at its shape and compare to `vss` to confirm:"
   ]
  },
  {
   "cell_type": "code",
   "execution_count": null,
   "metadata": {},
   "outputs": [],
   "source": [
    "vss_sub.shape\n",
    "vss.shape"
   ]
  },
  {
   "cell_type": "markdown",
   "metadata": {},
   "source": [
    "### Perform spatial join between boros and streets:\n",
    "Geopandas has an `sjoin` [[doc](http://geopandas.org/reference/geopandas.sjoin.html)] operator to perform spatial joins:"
   ]
  },
  {
   "cell_type": "code",
   "execution_count": null,
   "metadata": {},
   "outputs": [],
   "source": [
    "nybb_with_vss = geopandas.sjoin(nybb, vss_sub)"
   ]
  },
  {
   "cell_type": "markdown",
   "metadata": {},
   "source": [
    "Take a look:"
   ]
  },
  {
   "cell_type": "code",
   "execution_count": null,
   "metadata": {},
   "outputs": [],
   "source": [
    "type(nybb_with_vss)\n",
    "nybb_with_vss.head()"
   ]
  },
  {
   "cell_type": "markdown",
   "metadata": {},
   "source": [
    "### Summarize stats\n",
    "We have successfully given the streets the names of the boros they reside in. Not let's summarize. This functionality is\n",
    "inherited from the `pandas` library:"
   ]
  },
  {
   "cell_type": "code",
   "execution_count": null,
   "metadata": {},
   "outputs": [],
   "source": [
    "mean_rating_by_boro = nybb_with_vss.groupby(['BoroCode'])['Rating_B'].mean()"
   ]
  },
  {
   "cell_type": "markdown",
   "metadata": {},
   "source": [
    "This creates a data frame containing the mean of `Rating_B` bu `BoroCode` across the `nybb_with_vss` dataframe."
   ]
  },
  {
   "cell_type": "code",
   "execution_count": null,
   "metadata": {},
   "outputs": [],
   "source": [
    "type(mean_rating_by_boro)\n",
    "mean_rating_by_boro.head()"
   ]
  },
  {
   "cell_type": "markdown",
   "metadata": {},
   "source": [
    "### Join pavement summary stats to boros\n",
    "The above is just a table. To give those attributes to the original boros data we need to do a table join, which in \n",
    "geopandas parlance is `.merge()`:"
   ]
  },
  {
   "cell_type": "code",
   "execution_count": null,
   "metadata": {},
   "outputs": [],
   "source": [
    "nybb_with_mean_ratings = nybb.merge(mean_rating_by_boro, on='BoroCode' )\n",
    "nybb_with_mean_ratings.head()"
   ]
  },
  {
   "cell_type": "markdown",
   "metadata": {},
   "source": [
    "Save your final python file as `spatial_join.py` in this repository. Additionally, take a screenshot showing the results\n",
    "of the final step in the assignment and save it as `spatial_join.png`."
   ]
  }
 ],
 "metadata": {
  "kernelspec": {
   "display_name": "Python 3.10.4 64-bit",
   "language": "python",
   "name": "python3"
  },
  "language_info": {
   "codemirror_mode": {
    "name": "ipython",
    "version": 3
   },
   "file_extension": ".py",
   "mimetype": "text/x-python",
   "name": "python",
   "nbconvert_exporter": "python",
   "pygments_lexer": "ipython3",
   "version": "3.10.4"
  },
  "orig_nbformat": 4,
  "vscode": {
   "interpreter": {
    "hash": "3ad933181bd8a04b432d3370b9dc3b0662ad032c4dfaa4e4f1596c548f763858"
   }
  }
 },
 "nbformat": 4,
 "nbformat_minor": 2
}
